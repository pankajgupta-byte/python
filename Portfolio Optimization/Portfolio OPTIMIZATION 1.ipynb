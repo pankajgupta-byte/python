{
 "cells": [
  {
   "cell_type": "code",
   "execution_count": 1,
   "id": "2c68b4f5-2f0a-4233-b87b-cbe23b2d8a23",
   "metadata": {},
   "outputs": [
    {
     "name": "stdout",
     "output_type": "stream",
     "text": [
      "Requirement already satisfied: yfinance in c:\\users\\pankaj gupta\\anaconda3\\lib\\site-packages (0.2.52)\n",
      "Requirement already satisfied: pandas>=1.3.0 in c:\\users\\pankaj gupta\\anaconda3\\lib\\site-packages (from yfinance) (2.2.2)\n",
      "Requirement already satisfied: numpy>=1.16.5 in c:\\users\\pankaj gupta\\anaconda3\\lib\\site-packages (from yfinance) (1.26.4)\n",
      "Requirement already satisfied: requests>=2.31 in c:\\users\\pankaj gupta\\anaconda3\\lib\\site-packages (from yfinance) (2.32.2)\n",
      "Requirement already satisfied: multitasking>=0.0.7 in c:\\users\\pankaj gupta\\anaconda3\\lib\\site-packages (from yfinance) (0.0.11)\n",
      "Requirement already satisfied: lxml>=4.9.1 in c:\\users\\pankaj gupta\\anaconda3\\lib\\site-packages (from yfinance) (5.2.1)\n",
      "Requirement already satisfied: platformdirs>=2.0.0 in c:\\users\\pankaj gupta\\anaconda3\\lib\\site-packages (from yfinance) (3.10.0)\n",
      "Requirement already satisfied: pytz>=2022.5 in c:\\users\\pankaj gupta\\anaconda3\\lib\\site-packages (from yfinance) (2024.1)\n",
      "Requirement already satisfied: frozendict>=2.3.4 in c:\\users\\pankaj gupta\\anaconda3\\lib\\site-packages (from yfinance) (2.4.2)\n",
      "Requirement already satisfied: peewee>=3.16.2 in c:\\users\\pankaj gupta\\anaconda3\\lib\\site-packages (from yfinance) (3.17.8)\n",
      "Requirement already satisfied: beautifulsoup4>=4.11.1 in c:\\users\\pankaj gupta\\anaconda3\\lib\\site-packages (from yfinance) (4.12.3)\n",
      "Requirement already satisfied: html5lib>=1.1 in c:\\users\\pankaj gupta\\anaconda3\\lib\\site-packages (from yfinance) (1.1)\n",
      "Requirement already satisfied: soupsieve>1.2 in c:\\users\\pankaj gupta\\anaconda3\\lib\\site-packages (from beautifulsoup4>=4.11.1->yfinance) (2.5)\n",
      "Requirement already satisfied: six>=1.9 in c:\\users\\pankaj gupta\\anaconda3\\lib\\site-packages (from html5lib>=1.1->yfinance) (1.16.0)\n",
      "Requirement already satisfied: webencodings in c:\\users\\pankaj gupta\\anaconda3\\lib\\site-packages (from html5lib>=1.1->yfinance) (0.5.1)\n",
      "Requirement already satisfied: python-dateutil>=2.8.2 in c:\\users\\pankaj gupta\\anaconda3\\lib\\site-packages (from pandas>=1.3.0->yfinance) (2.9.0.post0)\n",
      "Requirement already satisfied: tzdata>=2022.7 in c:\\users\\pankaj gupta\\anaconda3\\lib\\site-packages (from pandas>=1.3.0->yfinance) (2023.3)\n",
      "Requirement already satisfied: charset-normalizer<4,>=2 in c:\\users\\pankaj gupta\\anaconda3\\lib\\site-packages (from requests>=2.31->yfinance) (2.0.4)\n",
      "Requirement already satisfied: idna<4,>=2.5 in c:\\users\\pankaj gupta\\anaconda3\\lib\\site-packages (from requests>=2.31->yfinance) (3.7)\n",
      "Requirement already satisfied: urllib3<3,>=1.21.1 in c:\\users\\pankaj gupta\\anaconda3\\lib\\site-packages (from requests>=2.31->yfinance) (2.2.2)\n",
      "Requirement already satisfied: certifi>=2017.4.17 in c:\\users\\pankaj gupta\\anaconda3\\lib\\site-packages (from requests>=2.31->yfinance) (2024.6.2)\n",
      "Note: you may need to restart the kernel to use updated packages.\n"
     ]
    }
   ],
   "source": [
    "pip install yfinance"
   ]
  },
  {
   "cell_type": "code",
   "execution_count": 2,
   "id": "2a963f8c-61d5-4afb-8c06-2bcfcc74762d",
   "metadata": {},
   "outputs": [],
   "source": [
    "import numpy as np \n",
    "import pandas as pd\n",
    "from datetime import datetime\n",
    "from datetime import timedelta\n",
    "import yfinance as yf\n",
    "from dateutil.relativedelta import relativedelta"
   ]
  },
  {
   "cell_type": "code",
   "execution_count": 3,
   "id": "44850e2e-f047-42a7-a64b-3c5c041d685b",
   "metadata": {},
   "outputs": [],
   "source": [
    "assets = ['RELIANCE.BO', 'TCS.BO', 'INFY.BO', 'HDFCBANK.BO', 'ICICIBANK.BO', \n",
    "           'SBIN.BO', 'BHARTIARTL.BO', 'LT.BO']"
   ]
  },
  {
   "cell_type": "code",
   "execution_count": 4,
   "id": "bec85f06-3e9a-436e-a8ab-71d5abd74ead",
   "metadata": {},
   "outputs": [
    {
     "name": "stdout",
     "output_type": "stream",
     "text": [
      "2025-01-22 23:48:59.748129\n"
     ]
    }
   ],
   "source": [
    "end_date = datetime.today()\n",
    "print(end_date)"
   ]
  },
  {
   "cell_type": "code",
   "execution_count": 5,
   "id": "9ed398e9-f993-4774-bc0f-a1649950ff20",
   "metadata": {},
   "outputs": [
    {
     "name": "stdout",
     "output_type": "stream",
     "text": [
      "2015-01-22 23:48:59.748129\n"
     ]
    }
   ],
   "source": [
    "start_date = end_date - relativedelta(years=10)\n",
    "print(start_date)"
   ]
  },
  {
   "cell_type": "code",
   "execution_count": 6,
   "id": "bf18bff3-f376-418f-ae1c-708ffbe5574f",
   "metadata": {},
   "outputs": [],
   "source": [
    "close_prices = pd.DataFrame()"
   ]
  },
  {
   "cell_type": "code",
   "execution_count": 7,
   "id": "e2cf5008-8f0a-432d-b407-03e5ee9608a9",
   "metadata": {},
   "outputs": [
    {
     "name": "stderr",
     "output_type": "stream",
     "text": [
      "[*********************100%***********************]  1 of 1 completed\n",
      "[*********************100%***********************]  1 of 1 completed\n",
      "[*********************100%***********************]  1 of 1 completed\n",
      "[*********************100%***********************]  1 of 1 completed\n",
      "[*********************100%***********************]  1 of 1 completed\n",
      "[*********************100%***********************]  1 of 1 completed\n",
      "[*********************100%***********************]  1 of 1 completed\n",
      "[*********************100%***********************]  1 of 1 completed\n"
     ]
    }
   ],
   "source": [
    "for asset in assets:\n",
    "    data = yf.download(asset, start=start_date, end=end_date)\n",
    "    close_prices[asset] = data['Close']"
   ]
  },
  {
   "cell_type": "code",
   "execution_count": 9,
   "id": "c47919ac-bdce-4e6a-a427-ed84e8c21cbc",
   "metadata": {},
   "outputs": [
    {
     "data": {
      "text/html": [
       "<div>\n",
       "<style scoped>\n",
       "    .dataframe tbody tr th:only-of-type {\n",
       "        vertical-align: middle;\n",
       "    }\n",
       "\n",
       "    .dataframe tbody tr th {\n",
       "        vertical-align: top;\n",
       "    }\n",
       "\n",
       "    .dataframe thead th {\n",
       "        text-align: right;\n",
       "    }\n",
       "</style>\n",
       "<table border=\"1\" class=\"dataframe\">\n",
       "  <thead>\n",
       "    <tr style=\"text-align: right;\">\n",
       "      <th></th>\n",
       "      <th>RELIANCE.BO</th>\n",
       "      <th>TCS.BO</th>\n",
       "      <th>INFY.BO</th>\n",
       "      <th>HDFCBANK.BO</th>\n",
       "      <th>ICICIBANK.BO</th>\n",
       "      <th>SBIN.BO</th>\n",
       "      <th>BHARTIARTL.BO</th>\n",
       "      <th>LT.BO</th>\n",
       "    </tr>\n",
       "    <tr>\n",
       "      <th>Date</th>\n",
       "      <th></th>\n",
       "      <th></th>\n",
       "      <th></th>\n",
       "      <th></th>\n",
       "      <th></th>\n",
       "      <th></th>\n",
       "      <th></th>\n",
       "      <th></th>\n",
       "    </tr>\n",
       "  </thead>\n",
       "  <tbody>\n",
       "    <tr>\n",
       "      <th>2015-01-22</th>\n",
       "      <td>185.380112</td>\n",
       "      <td>953.682373</td>\n",
       "      <td>376.582367</td>\n",
       "      <td>455.001221</td>\n",
       "      <td>309.150513</td>\n",
       "      <td>292.273193</td>\n",
       "      <td>351.370422</td>\n",
       "      <td>959.098755</td>\n",
       "    </tr>\n",
       "    <tr>\n",
       "      <th>2015-01-23</th>\n",
       "      <td>185.977707</td>\n",
       "      <td>949.488220</td>\n",
       "      <td>379.729675</td>\n",
       "      <td>464.692535</td>\n",
       "      <td>310.155212</td>\n",
       "      <td>294.931030</td>\n",
       "      <td>364.429901</td>\n",
       "      <td>983.868042</td>\n",
       "    </tr>\n",
       "    <tr>\n",
       "      <th>2015-01-27</th>\n",
       "      <td>186.355133</td>\n",
       "      <td>953.717834</td>\n",
       "      <td>366.343323</td>\n",
       "      <td>478.550049</td>\n",
       "      <td>321.248596</td>\n",
       "      <td>297.138428</td>\n",
       "      <td>373.642700</td>\n",
       "      <td>1004.254028</td>\n",
       "    </tr>\n",
       "    <tr>\n",
       "      <th>2015-01-28</th>\n",
       "      <td>189.940704</td>\n",
       "      <td>965.873718</td>\n",
       "      <td>367.904083</td>\n",
       "      <td>471.465363</td>\n",
       "      <td>321.374146</td>\n",
       "      <td>301.327942</td>\n",
       "      <td>354.979523</td>\n",
       "      <td>979.023682</td>\n",
       "    </tr>\n",
       "    <tr>\n",
       "      <th>2015-01-29</th>\n",
       "      <td>194.564194</td>\n",
       "      <td>968.407959</td>\n",
       "      <td>367.526794</td>\n",
       "      <td>487.595215</td>\n",
       "      <td>318.108978</td>\n",
       "      <td>294.390533</td>\n",
       "      <td>356.309235</td>\n",
       "      <td>991.509155</td>\n",
       "    </tr>\n",
       "  </tbody>\n",
       "</table>\n",
       "</div>"
      ],
      "text/plain": [
       "            RELIANCE.BO      TCS.BO     INFY.BO  HDFCBANK.BO  ICICIBANK.BO  \\\n",
       "Date                                                                         \n",
       "2015-01-22   185.380112  953.682373  376.582367   455.001221    309.150513   \n",
       "2015-01-23   185.977707  949.488220  379.729675   464.692535    310.155212   \n",
       "2015-01-27   186.355133  953.717834  366.343323   478.550049    321.248596   \n",
       "2015-01-28   189.940704  965.873718  367.904083   471.465363    321.374146   \n",
       "2015-01-29   194.564194  968.407959  367.526794   487.595215    318.108978   \n",
       "\n",
       "               SBIN.BO  BHARTIARTL.BO        LT.BO  \n",
       "Date                                                \n",
       "2015-01-22  292.273193     351.370422   959.098755  \n",
       "2015-01-23  294.931030     364.429901   983.868042  \n",
       "2015-01-27  297.138428     373.642700  1004.254028  \n",
       "2015-01-28  301.327942     354.979523   979.023682  \n",
       "2015-01-29  294.390533     356.309235   991.509155  "
      ]
     },
     "execution_count": 9,
     "metadata": {},
     "output_type": "execute_result"
    }
   ],
   "source": [
    "close_prices.head()"
   ]
  },
  {
   "cell_type": "code",
   "execution_count": 10,
   "id": "55d0f585-90f2-400c-8b14-a677e774b996",
   "metadata": {},
   "outputs": [],
   "source": [
    "import matplotlib.pyplot as plt"
   ]
  },
  {
   "cell_type": "code",
   "execution_count": 11,
   "id": "d5f4bc12-0cea-47f2-90ba-b64d400ef6bb",
   "metadata": {},
   "outputs": [
    {
     "data": {
      "image/png": "[encoded data removed]",
      "text/plain": [
       "<Figure size 640x480 with 1 Axes>"
      ]
     },
     "metadata": {},
     "output_type": "display_data"
    }
   ],
   "source": [
    "for c in close_prices.columns.values:\n",
    "    plt.plot(close_prices.index,close_prices[c], lw=0.8, alpha =1, label =c)\n",
    "    plt.legend(loc='upper left',fontsize=12)\n",
    "    plt.ylabel('price')\n",
    "    plt.xlabel('daily returns')"
   ]
  },
  {
   "cell_type": "code",
   "execution_count": 12,
   "id": "6bd393cf-4a6d-441a-bbc8-e46abc744632",
   "metadata": {},
   "outputs": [
    {
     "name": "stdout",
     "output_type": "stream",
     "text": [
      "<class 'pandas.core.frame.DataFrame'>\n"
     ]
    }
   ],
   "source": [
    "print(type(close_prices))"
   ]
  },
  {
   "cell_type": "code",
   "execution_count": 13,
   "id": "dc0c0dc0-1290-4342-8746-fa5cfd370533",
   "metadata": {},
   "outputs": [
    {
     "name": "stdout",
     "output_type": "stream",
     "text": [
      "<class 'pandas.core.frame.DataFrame'>\n"
     ]
    }
   ],
   "source": [
    "print(type(close_prices))"
   ]
  },
  {
   "cell_type": "code",
   "execution_count": 14,
   "id": "c4909963-1c1d-4d68-94d7-e3f133d8e51b",
   "metadata": {},
   "outputs": [
    {
     "data": {
      "text/html": [
       "<div>\n",
       "<style scoped>\n",
       "    .dataframe tbody tr th:only-of-type {\n",
       "        vertical-align: middle;\n",
       "    }\n",
       "\n",
       "    .dataframe tbody tr th {\n",
       "        vertical-align: top;\n",
       "    }\n",
       "\n",
       "    .dataframe thead th {\n",
       "        text-align: right;\n",
       "    }\n",
       "</style>\n",
       "<table border=\"1\" class=\"dataframe\">\n",
       "  <thead>\n",
       "    <tr style=\"text-align: right;\">\n",
       "      <th></th>\n",
       "      <th>RELIANCE.BO</th>\n",
       "      <th>TCS.BO</th>\n",
       "      <th>INFY.BO</th>\n",
       "      <th>HDFCBANK.BO</th>\n",
       "      <th>ICICIBANK.BO</th>\n",
       "      <th>SBIN.BO</th>\n",
       "      <th>BHARTIARTL.BO</th>\n",
       "      <th>LT.BO</th>\n",
       "    </tr>\n",
       "    <tr>\n",
       "      <th>Date</th>\n",
       "      <th></th>\n",
       "      <th></th>\n",
       "      <th></th>\n",
       "      <th></th>\n",
       "      <th></th>\n",
       "      <th></th>\n",
       "      <th></th>\n",
       "      <th></th>\n",
       "    </tr>\n",
       "  </thead>\n",
       "  <tbody>\n",
       "    <tr>\n",
       "      <th>2015-01-22</th>\n",
       "      <td>NaN</td>\n",
       "      <td>NaN</td>\n",
       "      <td>NaN</td>\n",
       "      <td>NaN</td>\n",
       "      <td>NaN</td>\n",
       "      <td>NaN</td>\n",
       "      <td>NaN</td>\n",
       "      <td>NaN</td>\n",
       "    </tr>\n",
       "    <tr>\n",
       "      <th>2015-01-23</th>\n",
       "      <td>0.003224</td>\n",
       "      <td>-0.004398</td>\n",
       "      <td>0.008358</td>\n",
       "      <td>0.021300</td>\n",
       "      <td>0.003250</td>\n",
       "      <td>0.009094</td>\n",
       "      <td>0.037167</td>\n",
       "      <td>0.025826</td>\n",
       "    </tr>\n",
       "    <tr>\n",
       "      <th>2015-01-27</th>\n",
       "      <td>0.002029</td>\n",
       "      <td>0.004455</td>\n",
       "      <td>-0.035252</td>\n",
       "      <td>0.029821</td>\n",
       "      <td>0.035767</td>\n",
       "      <td>0.007484</td>\n",
       "      <td>0.025280</td>\n",
       "      <td>0.020720</td>\n",
       "    </tr>\n",
       "    <tr>\n",
       "      <th>2015-01-28</th>\n",
       "      <td>0.019241</td>\n",
       "      <td>0.012746</td>\n",
       "      <td>0.004260</td>\n",
       "      <td>-0.014804</td>\n",
       "      <td>0.000391</td>\n",
       "      <td>0.014100</td>\n",
       "      <td>-0.049949</td>\n",
       "      <td>-0.025123</td>\n",
       "    </tr>\n",
       "    <tr>\n",
       "      <th>2015-01-29</th>\n",
       "      <td>0.024342</td>\n",
       "      <td>0.002624</td>\n",
       "      <td>-0.001026</td>\n",
       "      <td>0.034212</td>\n",
       "      <td>-0.010160</td>\n",
       "      <td>-0.023023</td>\n",
       "      <td>0.003746</td>\n",
       "      <td>0.012753</td>\n",
       "    </tr>\n",
       "  </tbody>\n",
       "</table>\n",
       "</div>"
      ],
      "text/plain": [
       "            RELIANCE.BO    TCS.BO   INFY.BO  HDFCBANK.BO  ICICIBANK.BO  \\\n",
       "Date                                                                     \n",
       "2015-01-22          NaN       NaN       NaN          NaN           NaN   \n",
       "2015-01-23     0.003224 -0.004398  0.008358     0.021300      0.003250   \n",
       "2015-01-27     0.002029  0.004455 -0.035252     0.029821      0.035767   \n",
       "2015-01-28     0.019241  0.012746  0.004260    -0.014804      0.000391   \n",
       "2015-01-29     0.024342  0.002624 -0.001026     0.034212     -0.010160   \n",
       "\n",
       "             SBIN.BO  BHARTIARTL.BO     LT.BO  \n",
       "Date                                           \n",
       "2015-01-22       NaN            NaN       NaN  \n",
       "2015-01-23  0.009094       0.037167  0.025826  \n",
       "2015-01-27  0.007484       0.025280  0.020720  \n",
       "2015-01-28  0.014100      -0.049949 -0.025123  \n",
       "2015-01-29 -0.023023       0.003746  0.012753  "
      ]
     },
     "execution_count": 14,
     "metadata": {},
     "output_type": "execute_result"
    }
   ],
   "source": [
    "returns =((close_prices/close_prices.shift(1))-1)\n",
    "returns.head()"
   ]
  },
  {
   "cell_type": "code",
   "execution_count": 15,
   "id": "0da05e3e-4ff9-49f9-b0a3-c765b461a2e8",
   "metadata": {},
   "outputs": [
    {
     "data": {
      "image/png": "[encoded data removed]",
      "text/plain": [
       "<Figure size 1000x800 with 9 Axes>"
      ]
     },
     "metadata": {},
     "output_type": "display_data"
    }
   ],
   "source": [
    "returns.hist(bins=500,figsize= (10,8))\n",
    "plt.show()"
   ]
  },
  {
   "cell_type": "code",
   "execution_count": 16,
   "id": "47dfe5fd-2071-47b6-a657-6a8c88b3c703",
   "metadata": {},
   "outputs": [
    {
     "data": {
      "text/html": [
       "<div>\n",
       "<style scoped>\n",
       "    .dataframe tbody tr th:only-of-type {\n",
       "        vertical-align: middle;\n",
       "    }\n",
       "\n",
       "    .dataframe tbody tr th {\n",
       "        vertical-align: top;\n",
       "    }\n",
       "\n",
       "    .dataframe thead th {\n",
       "        text-align: right;\n",
       "    }\n",
       "</style>\n",
       "<table border=\"1\" class=\"dataframe\">\n",
       "  <thead>\n",
       "    <tr style=\"text-align: right;\">\n",
       "      <th></th>\n",
       "      <th>RELIANCE.BO</th>\n",
       "      <th>TCS.BO</th>\n",
       "      <th>INFY.BO</th>\n",
       "      <th>HDFCBANK.BO</th>\n",
       "      <th>ICICIBANK.BO</th>\n",
       "      <th>SBIN.BO</th>\n",
       "      <th>BHARTIARTL.BO</th>\n",
       "      <th>LT.BO</th>\n",
       "    </tr>\n",
       "    <tr>\n",
       "      <th>Date</th>\n",
       "      <th></th>\n",
       "      <th></th>\n",
       "      <th></th>\n",
       "      <th></th>\n",
       "      <th></th>\n",
       "      <th></th>\n",
       "      <th></th>\n",
       "      <th></th>\n",
       "    </tr>\n",
       "  </thead>\n",
       "  <tbody>\n",
       "    <tr>\n",
       "      <th>2015-01-22</th>\n",
       "      <td>NaN</td>\n",
       "      <td>NaN</td>\n",
       "      <td>NaN</td>\n",
       "      <td>NaN</td>\n",
       "      <td>NaN</td>\n",
       "      <td>NaN</td>\n",
       "      <td>NaN</td>\n",
       "      <td>NaN</td>\n",
       "    </tr>\n",
       "    <tr>\n",
       "      <th>2015-01-23</th>\n",
       "      <td>0.003218</td>\n",
       "      <td>-0.004408</td>\n",
       "      <td>0.008323</td>\n",
       "      <td>0.021076</td>\n",
       "      <td>0.003245</td>\n",
       "      <td>0.009053</td>\n",
       "      <td>0.036493</td>\n",
       "      <td>0.025498</td>\n",
       "    </tr>\n",
       "    <tr>\n",
       "      <th>2015-01-27</th>\n",
       "      <td>0.002027</td>\n",
       "      <td>0.004445</td>\n",
       "      <td>-0.035889</td>\n",
       "      <td>0.029385</td>\n",
       "      <td>0.035142</td>\n",
       "      <td>0.007457</td>\n",
       "      <td>0.024966</td>\n",
       "      <td>0.020509</td>\n",
       "    </tr>\n",
       "    <tr>\n",
       "      <th>2015-01-28</th>\n",
       "      <td>0.019058</td>\n",
       "      <td>0.012665</td>\n",
       "      <td>0.004251</td>\n",
       "      <td>-0.014915</td>\n",
       "      <td>0.000391</td>\n",
       "      <td>0.014001</td>\n",
       "      <td>-0.051240</td>\n",
       "      <td>-0.025444</td>\n",
       "    </tr>\n",
       "    <tr>\n",
       "      <th>2015-01-29</th>\n",
       "      <td>0.024050</td>\n",
       "      <td>0.002620</td>\n",
       "      <td>-0.001026</td>\n",
       "      <td>0.033640</td>\n",
       "      <td>-0.010212</td>\n",
       "      <td>-0.023292</td>\n",
       "      <td>0.003739</td>\n",
       "      <td>0.012672</td>\n",
       "    </tr>\n",
       "    <tr>\n",
       "      <th>...</th>\n",
       "      <td>...</td>\n",
       "      <td>...</td>\n",
       "      <td>...</td>\n",
       "      <td>...</td>\n",
       "      <td>...</td>\n",
       "      <td>...</td>\n",
       "      <td>...</td>\n",
       "      <td>...</td>\n",
       "    </tr>\n",
       "    <tr>\n",
       "      <th>2025-01-16</th>\n",
       "      <td>0.013011</td>\n",
       "      <td>-0.009566</td>\n",
       "      <td>-0.012178</td>\n",
       "      <td>0.006069</td>\n",
       "      <td>0.009123</td>\n",
       "      <td>0.016312</td>\n",
       "      <td>0.014509</td>\n",
       "      <td>0.003208</td>\n",
       "    </tr>\n",
       "    <tr>\n",
       "      <th>2025-01-17</th>\n",
       "      <td>0.025371</td>\n",
       "      <td>-0.001550</td>\n",
       "      <td>-0.059409</td>\n",
       "      <td>-0.009759</td>\n",
       "      <td>-0.019308</td>\n",
       "      <td>-0.003006</td>\n",
       "      <td>-0.002485</td>\n",
       "      <td>0.015846</td>\n",
       "    </tr>\n",
       "    <tr>\n",
       "      <th>2025-01-20</th>\n",
       "      <td>0.002839</td>\n",
       "      <td>-0.011887</td>\n",
       "      <td>-0.001020</td>\n",
       "      <td>0.008851</td>\n",
       "      <td>0.005653</td>\n",
       "      <td>0.019377</td>\n",
       "      <td>0.008414</td>\n",
       "      <td>0.005004</td>\n",
       "    </tr>\n",
       "    <tr>\n",
       "      <th>2025-01-21</th>\n",
       "      <td>-0.024866</td>\n",
       "      <td>-0.010504</td>\n",
       "      <td>-0.007445</td>\n",
       "      <td>-0.005770</td>\n",
       "      <td>-0.030262</td>\n",
       "      <td>-0.026073</td>\n",
       "      <td>-0.009336</td>\n",
       "      <td>-0.014139</td>\n",
       "    </tr>\n",
       "    <tr>\n",
       "      <th>2025-01-22</th>\n",
       "      <td>0.003412</td>\n",
       "      <td>0.029227</td>\n",
       "      <td>0.031071</td>\n",
       "      <td>0.014092</td>\n",
       "      <td>0.003505</td>\n",
       "      <td>-0.007605</td>\n",
       "      <td>0.003469</td>\n",
       "      <td>-0.005487</td>\n",
       "    </tr>\n",
       "  </tbody>\n",
       "</table>\n",
       "<p>2466 rows × 8 columns</p>\n",
       "</div>"
      ],
      "text/plain": [
       "            RELIANCE.BO    TCS.BO   INFY.BO  HDFCBANK.BO  ICICIBANK.BO  \\\n",
       "Date                                                                     \n",
       "2015-01-22          NaN       NaN       NaN          NaN           NaN   \n",
       "2015-01-23     0.003218 -0.004408  0.008323     0.021076      0.003245   \n",
       "2015-01-27     0.002027  0.004445 -0.035889     0.029385      0.035142   \n",
       "2015-01-28     0.019058  0.012665  0.004251    -0.014915      0.000391   \n",
       "2015-01-29     0.024050  0.002620 -0.001026     0.033640     -0.010212   \n",
       "...                 ...       ...       ...          ...           ...   \n",
       "2025-01-16     0.013011 -0.009566 -0.012178     0.006069      0.009123   \n",
       "2025-01-17     0.025371 -0.001550 -0.059409    -0.009759     -0.019308   \n",
       "2025-01-20     0.002839 -0.011887 -0.001020     0.008851      0.005653   \n",
       "2025-01-21    -0.024866 -0.010504 -0.007445    -0.005770     -0.030262   \n",
       "2025-01-22     0.003412  0.029227  0.031071     0.014092      0.003505   \n",
       "\n",
       "             SBIN.BO  BHARTIARTL.BO     LT.BO  \n",
       "Date                                           \n",
       "2015-01-22       NaN            NaN       NaN  \n",
       "2015-01-23  0.009053       0.036493  0.025498  \n",
       "2015-01-27  0.007457       0.024966  0.020509  \n",
       "2015-01-28  0.014001      -0.051240 -0.025444  \n",
       "2015-01-29 -0.023292       0.003739  0.012672  \n",
       "...              ...            ...       ...  \n",
       "2025-01-16  0.016312       0.014509  0.003208  \n",
       "2025-01-17 -0.003006      -0.002485  0.015846  \n",
       "2025-01-20  0.019377       0.008414  0.005004  \n",
       "2025-01-21 -0.026073      -0.009336 -0.014139  \n",
       "2025-01-22 -0.007605       0.003469 -0.005487  \n",
       "\n",
       "[2466 rows x 8 columns]"
      ]
     },
     "execution_count": 16,
     "metadata": {},
     "output_type": "execute_result"
    }
   ],
   "source": [
    "log_returns = np.log(close_prices/close_prices.shift(1))\n",
    "log_returns "
   ]
  },
  {
   "cell_type": "code",
   "execution_count": 17,
   "id": "f5811b67-7d71-400f-9a09-2f6e2d016b08",
   "metadata": {},
   "outputs": [
    {
     "data": {
      "text/plain": [
       "RELIANCE.BO      0.197316\n",
       "TCS.BO           0.137446\n",
       "INFY.BO          0.147395\n",
       "HDFCBANK.BO      0.143463\n",
       "ICICIBANK.BO     0.142666\n",
       "SBIN.BO          0.108725\n",
       "BHARTIARTL.BO    0.159012\n",
       "LT.BO            0.139809\n",
       "dtype: float64"
      ]
     },
     "execution_count": 17,
     "metadata": {},
     "output_type": "execute_result"
    }
   ],
   "source": [
    "log_returns.mean()*252"
   ]
  },
  {
   "cell_type": "code",
   "execution_count": 18,
   "id": "9e7d8adc-2fc7-41d7-92b3-e853af5ae539",
   "metadata": {},
   "outputs": [
    {
     "data": {
      "text/html": [
       "<div>\n",
       "<style scoped>\n",
       "    .dataframe tbody tr th:only-of-type {\n",
       "        vertical-align: middle;\n",
       "    }\n",
       "\n",
       "    .dataframe tbody tr th {\n",
       "        vertical-align: top;\n",
       "    }\n",
       "\n",
       "    .dataframe thead th {\n",
       "        text-align: right;\n",
       "    }\n",
       "</style>\n",
       "<table border=\"1\" class=\"dataframe\">\n",
       "  <thead>\n",
       "    <tr style=\"text-align: right;\">\n",
       "      <th></th>\n",
       "      <th>RELIANCE.BO</th>\n",
       "      <th>TCS.BO</th>\n",
       "      <th>INFY.BO</th>\n",
       "      <th>HDFCBANK.BO</th>\n",
       "      <th>ICICIBANK.BO</th>\n",
       "      <th>SBIN.BO</th>\n",
       "      <th>BHARTIARTL.BO</th>\n",
       "      <th>LT.BO</th>\n",
       "    </tr>\n",
       "  </thead>\n",
       "  <tbody>\n",
       "    <tr>\n",
       "      <th>RELIANCE.BO</th>\n",
       "      <td>0.077385</td>\n",
       "      <td>0.017623</td>\n",
       "      <td>0.018879</td>\n",
       "      <td>0.024784</td>\n",
       "      <td>0.032198</td>\n",
       "      <td>0.034061</td>\n",
       "      <td>0.023128</td>\n",
       "      <td>0.027996</td>\n",
       "    </tr>\n",
       "    <tr>\n",
       "      <th>TCS.BO</th>\n",
       "      <td>0.017623</td>\n",
       "      <td>0.055053</td>\n",
       "      <td>0.035615</td>\n",
       "      <td>0.013497</td>\n",
       "      <td>0.015793</td>\n",
       "      <td>0.014483</td>\n",
       "      <td>0.012483</td>\n",
       "      <td>0.015561</td>\n",
       "    </tr>\n",
       "    <tr>\n",
       "      <th>INFY.BO</th>\n",
       "      <td>0.018879</td>\n",
       "      <td>0.035615</td>\n",
       "      <td>0.070417</td>\n",
       "      <td>0.016480</td>\n",
       "      <td>0.020418</td>\n",
       "      <td>0.017858</td>\n",
       "      <td>0.015508</td>\n",
       "      <td>0.018078</td>\n",
       "    </tr>\n",
       "    <tr>\n",
       "      <th>HDFCBANK.BO</th>\n",
       "      <td>0.024784</td>\n",
       "      <td>0.013497</td>\n",
       "      <td>0.016480</td>\n",
       "      <td>0.051475</td>\n",
       "      <td>0.036949</td>\n",
       "      <td>0.032482</td>\n",
       "      <td>0.019689</td>\n",
       "      <td>0.029281</td>\n",
       "    </tr>\n",
       "    <tr>\n",
       "      <th>ICICIBANK.BO</th>\n",
       "      <td>0.032198</td>\n",
       "      <td>0.015793</td>\n",
       "      <td>0.020418</td>\n",
       "      <td>0.036949</td>\n",
       "      <td>0.099267</td>\n",
       "      <td>0.070191</td>\n",
       "      <td>0.027697</td>\n",
       "      <td>0.043356</td>\n",
       "    </tr>\n",
       "    <tr>\n",
       "      <th>SBIN.BO</th>\n",
       "      <td>0.034061</td>\n",
       "      <td>0.014483</td>\n",
       "      <td>0.017858</td>\n",
       "      <td>0.032482</td>\n",
       "      <td>0.070191</td>\n",
       "      <td>0.112201</td>\n",
       "      <td>0.029041</td>\n",
       "      <td>0.046248</td>\n",
       "    </tr>\n",
       "    <tr>\n",
       "      <th>BHARTIARTL.BO</th>\n",
       "      <td>0.023128</td>\n",
       "      <td>0.012483</td>\n",
       "      <td>0.015508</td>\n",
       "      <td>0.019689</td>\n",
       "      <td>0.027697</td>\n",
       "      <td>0.029041</td>\n",
       "      <td>0.091492</td>\n",
       "      <td>0.024464</td>\n",
       "    </tr>\n",
       "    <tr>\n",
       "      <th>LT.BO</th>\n",
       "      <td>0.027996</td>\n",
       "      <td>0.015561</td>\n",
       "      <td>0.018078</td>\n",
       "      <td>0.029281</td>\n",
       "      <td>0.043356</td>\n",
       "      <td>0.046248</td>\n",
       "      <td>0.024464</td>\n",
       "      <td>0.072663</td>\n",
       "    </tr>\n",
       "  </tbody>\n",
       "</table>\n",
       "</div>"
      ],
      "text/plain": [
       "               RELIANCE.BO    TCS.BO   INFY.BO  HDFCBANK.BO  ICICIBANK.BO  \\\n",
       "RELIANCE.BO       0.077385  0.017623  0.018879     0.024784      0.032198   \n",
       "TCS.BO            0.017623  0.055053  0.035615     0.013497      0.015793   \n",
       "INFY.BO           0.018879  0.035615  0.070417     0.016480      0.020418   \n",
       "HDFCBANK.BO       0.024784  0.013497  0.016480     0.051475      0.036949   \n",
       "ICICIBANK.BO      0.032198  0.015793  0.020418     0.036949      0.099267   \n",
       "SBIN.BO           0.034061  0.014483  0.017858     0.032482      0.070191   \n",
       "BHARTIARTL.BO     0.023128  0.012483  0.015508     0.019689      0.027697   \n",
       "LT.BO             0.027996  0.015561  0.018078     0.029281      0.043356   \n",
       "\n",
       "                SBIN.BO  BHARTIARTL.BO     LT.BO  \n",
       "RELIANCE.BO    0.034061       0.023128  0.027996  \n",
       "TCS.BO         0.014483       0.012483  0.015561  \n",
       "INFY.BO        0.017858       0.015508  0.018078  \n",
       "HDFCBANK.BO    0.032482       0.019689  0.029281  \n",
       "ICICIBANK.BO   0.070191       0.027697  0.043356  \n",
       "SBIN.BO        0.112201       0.029041  0.046248  \n",
       "BHARTIARTL.BO  0.029041       0.091492  0.024464  \n",
       "LT.BO          0.046248       0.024464  0.072663  "
      ]
     },
     "execution_count": 18,
     "metadata": {},
     "output_type": "execute_result"
    }
   ],
   "source": [
    "log_returns.cov()*252"
   ]
  },
  {
   "cell_type": "code",
   "execution_count": 19,
   "id": "aa8eaacd-399d-4fd2-a576-bc33d1f3f706",
   "metadata": {},
   "outputs": [
    {
     "data": {
      "text/html": [
       "<div>\n",
       "<style scoped>\n",
       "    .dataframe tbody tr th:only-of-type {\n",
       "        vertical-align: middle;\n",
       "    }\n",
       "\n",
       "    .dataframe tbody tr th {\n",
       "        vertical-align: top;\n",
       "    }\n",
       "\n",
       "    .dataframe thead th {\n",
       "        text-align: right;\n",
       "    }\n",
       "</style>\n",
       "<table border=\"1\" class=\"dataframe\">\n",
       "  <thead>\n",
       "    <tr style=\"text-align: right;\">\n",
       "      <th></th>\n",
       "      <th>RELIANCE.BO</th>\n",
       "      <th>TCS.BO</th>\n",
       "      <th>INFY.BO</th>\n",
       "      <th>HDFCBANK.BO</th>\n",
       "      <th>ICICIBANK.BO</th>\n",
       "      <th>SBIN.BO</th>\n",
       "      <th>BHARTIARTL.BO</th>\n",
       "      <th>LT.BO</th>\n",
       "    </tr>\n",
       "  </thead>\n",
       "  <tbody>\n",
       "    <tr>\n",
       "      <th>RELIANCE.BO</th>\n",
       "      <td>1.000000</td>\n",
       "      <td>0.269815</td>\n",
       "      <td>0.255581</td>\n",
       "      <td>0.392430</td>\n",
       "      <td>0.367139</td>\n",
       "      <td>0.365311</td>\n",
       "      <td>0.274697</td>\n",
       "      <td>0.373115</td>\n",
       "    </tr>\n",
       "    <tr>\n",
       "      <th>TCS.BO</th>\n",
       "      <td>0.269815</td>\n",
       "      <td>1.000000</td>\n",
       "      <td>0.572005</td>\n",
       "      <td>0.253541</td>\n",
       "      <td>0.213899</td>\n",
       "      <td>0.184503</td>\n",
       "      <td>0.176109</td>\n",
       "      <td>0.246340</td>\n",
       "    </tr>\n",
       "    <tr>\n",
       "      <th>INFY.BO</th>\n",
       "      <td>0.255581</td>\n",
       "      <td>0.572005</td>\n",
       "      <td>1.000000</td>\n",
       "      <td>0.273734</td>\n",
       "      <td>0.244118</td>\n",
       "      <td>0.200820</td>\n",
       "      <td>0.193125</td>\n",
       "      <td>0.252631</td>\n",
       "    </tr>\n",
       "    <tr>\n",
       "      <th>HDFCBANK.BO</th>\n",
       "      <td>0.392430</td>\n",
       "      <td>0.253541</td>\n",
       "      <td>0.273734</td>\n",
       "      <td>1.000000</td>\n",
       "      <td>0.516646</td>\n",
       "      <td>0.427207</td>\n",
       "      <td>0.286766</td>\n",
       "      <td>0.478542</td>\n",
       "    </tr>\n",
       "    <tr>\n",
       "      <th>ICICIBANK.BO</th>\n",
       "      <td>0.367139</td>\n",
       "      <td>0.213899</td>\n",
       "      <td>0.244118</td>\n",
       "      <td>0.516646</td>\n",
       "      <td>1.000000</td>\n",
       "      <td>0.665095</td>\n",
       "      <td>0.290634</td>\n",
       "      <td>0.510490</td>\n",
       "    </tr>\n",
       "    <tr>\n",
       "      <th>SBIN.BO</th>\n",
       "      <td>0.365311</td>\n",
       "      <td>0.184503</td>\n",
       "      <td>0.200820</td>\n",
       "      <td>0.427207</td>\n",
       "      <td>0.665095</td>\n",
       "      <td>1.000000</td>\n",
       "      <td>0.286634</td>\n",
       "      <td>0.512204</td>\n",
       "    </tr>\n",
       "    <tr>\n",
       "      <th>BHARTIARTL.BO</th>\n",
       "      <td>0.274697</td>\n",
       "      <td>0.176109</td>\n",
       "      <td>0.193125</td>\n",
       "      <td>0.286766</td>\n",
       "      <td>0.290634</td>\n",
       "      <td>0.286634</td>\n",
       "      <td>1.000000</td>\n",
       "      <td>0.300037</td>\n",
       "    </tr>\n",
       "    <tr>\n",
       "      <th>LT.BO</th>\n",
       "      <td>0.373115</td>\n",
       "      <td>0.246340</td>\n",
       "      <td>0.252631</td>\n",
       "      <td>0.478542</td>\n",
       "      <td>0.510490</td>\n",
       "      <td>0.512204</td>\n",
       "      <td>0.300037</td>\n",
       "      <td>1.000000</td>\n",
       "    </tr>\n",
       "  </tbody>\n",
       "</table>\n",
       "</div>"
      ],
      "text/plain": [
       "               RELIANCE.BO    TCS.BO   INFY.BO  HDFCBANK.BO  ICICIBANK.BO  \\\n",
       "RELIANCE.BO       1.000000  0.269815  0.255581     0.392430      0.367139   \n",
       "TCS.BO            0.269815  1.000000  0.572005     0.253541      0.213899   \n",
       "INFY.BO           0.255581  0.572005  1.000000     0.273734      0.244118   \n",
       "HDFCBANK.BO       0.392430  0.253541  0.273734     1.000000      0.516646   \n",
       "ICICIBANK.BO      0.367139  0.213899  0.244118     0.516646      1.000000   \n",
       "SBIN.BO           0.365311  0.184503  0.200820     0.427207      0.665095   \n",
       "BHARTIARTL.BO     0.274697  0.176109  0.193125     0.286766      0.290634   \n",
       "LT.BO             0.373115  0.246340  0.252631     0.478542      0.510490   \n",
       "\n",
       "                SBIN.BO  BHARTIARTL.BO     LT.BO  \n",
       "RELIANCE.BO    0.365311       0.274697  0.373115  \n",
       "TCS.BO         0.184503       0.176109  0.246340  \n",
       "INFY.BO        0.200820       0.193125  0.252631  \n",
       "HDFCBANK.BO    0.427207       0.286766  0.478542  \n",
       "ICICIBANK.BO   0.665095       0.290634  0.510490  \n",
       "SBIN.BO        1.000000       0.286634  0.512204  \n",
       "BHARTIARTL.BO  0.286634       1.000000  0.300037  \n",
       "LT.BO          0.512204       0.300037  1.000000  "
      ]
     },
     "execution_count": 19,
     "metadata": {},
     "output_type": "execute_result"
    }
   ],
   "source": [
    "log_returns.corr()"
   ]
  },
  {
   "cell_type": "code",
   "execution_count": 21,
   "id": "02966548-757c-409e-8476-6967e5db1a56",
   "metadata": {},
   "outputs": [
    {
     "data": {
      "text/plain": [
       "8"
      ]
     },
     "execution_count": 21,
     "metadata": {},
     "output_type": "execute_result"
    }
   ],
   "source": [
    "num_assets = len(close_prices.columns)\n",
    "num_assets"
   ]
  },
  {
   "cell_type": "code",
   "execution_count": 23,
   "id": "cb791789-ea8b-45b6-a8a1-3de8eba7b592",
   "metadata": {},
   "outputs": [],
   "source": [
    "weights = np.random.random(num_assets)"
   ]
  },
  {
   "cell_type": "code",
   "execution_count": 24,
   "id": "c28bdfdc-8c72-4588-8cab-6ecfbe2806c9",
   "metadata": {},
   "outputs": [
    {
     "data": {
      "text/plain": [
       "array([0.17205615, 0.05664734, 0.09385804, 0.18709584, 0.16317981,\n",
       "       0.07217838, 0.13751004, 0.1174744 ])"
      ]
     },
     "execution_count": 24,
     "metadata": {},
     "output_type": "execute_result"
    }
   ],
   "source": [
    "weights/=np.sum(weights)\n",
    "weights"
   ]
  },
  {
   "cell_type": "code",
   "execution_count": 25,
   "id": "4667ce93-48d5-4006-b741-008c6d1953ab",
   "metadata": {},
   "outputs": [
    {
     "data": {
      "text/plain": [
       "1.0"
      ]
     },
     "execution_count": 25,
     "metadata": {},
     "output_type": "execute_result"
    }
   ],
   "source": [
    "weights[0]+weights[1]+weights[2]+weights[3]+weights[4]+weights[5]+weights[6]+weights[7]"
   ]
  },
  {
   "cell_type": "code",
   "execution_count": 26,
   "id": "300c6e0b-94cf-46be-a715-819dc637fd30",
   "metadata": {},
   "outputs": [
    {
     "data": {
      "text/plain": [
       "0.1518284068624112"
      ]
     },
     "execution_count": 26,
     "metadata": {},
     "output_type": "execute_result"
    }
   ],
   "source": [
    "exp_por_ret = np.sum(weights * log_returns.mean())*252\n",
    "exp_por_ret "
   ]
  },
  {
   "cell_type": "code",
   "execution_count": 27,
   "id": "cc3ef603-38b9-4f1b-b136-184d34995720",
   "metadata": {},
   "outputs": [
    {
     "data": {
      "text/plain": [
       "0.03414480410782915"
      ]
     },
     "execution_count": 27,
     "metadata": {},
     "output_type": "execute_result"
    }
   ],
   "source": [
    "exp_por_var =np.dot(weights.T,np.dot(log_returns.cov()*252,weights))\n",
    "exp_por_var "
   ]
  },
  {
   "cell_type": "code",
   "execution_count": 28,
   "id": "2457b87a-edac-448c-a01c-f7bee596fe15",
   "metadata": {},
   "outputs": [
    {
     "data": {
      "text/plain": [
       "0.18478312722710682"
      ]
     },
     "execution_count": 28,
     "metadata": {},
     "output_type": "execute_result"
    }
   ],
   "source": [
    "exp_risk = np.sqrt(np.dot(weights.T,np.dot(log_returns.cov()*252,weights)))\n",
    "exp_risk"
   ]
  },
  {
   "cell_type": "code",
   "execution_count": 46,
   "id": "f302cd1e-e191-44da-9c15-93225771bb5e",
   "metadata": {},
   "outputs": [],
   "source": [
    "por_ret = []\n",
    "por_risk = []\n",
    "sharpe_ratio = []\n",
    "Rf = 0.075\n",
    "for x in range(25000):\n",
    "    weights = np.random.random(num_assets)\n",
    "    weights /= np.sum(weights)\n",
    "    por_ret.append(np.sum(weights * log_returns.mean()) * 252)\n",
    "    por_risk.append(np.sqrt(np.dot(weights.T,np.dot(log_returns.cov()*252,weights))))\n",
    "    sharpe_ratio.append((por_ret[-1] - Rf)/por_risk[-1])"
   ]
  },
  {
   "cell_type": "code",
   "execution_count": 47,
   "id": "7e8fa987-8a05-49ce-afa8-34eaeba57056",
   "metadata": {},
   "outputs": [],
   "source": [
    "portofolios = pd.DataFrame({'Return':por_ret,'Risk':por_risk,'S_ratio':sharpe_ratio})"
   ]
  },
  {
   "cell_type": "code",
   "execution_count": 48,
   "id": "f54f6fb3-1bb7-4817-821c-d10a7052a571",
   "metadata": {},
   "outputs": [
    {
     "data": {
      "text/html": [
       "<div>\n",
       "<style scoped>\n",
       "    .dataframe tbody tr th:only-of-type {\n",
       "        vertical-align: middle;\n",
       "    }\n",
       "\n",
       "    .dataframe tbody tr th {\n",
       "        vertical-align: top;\n",
       "    }\n",
       "\n",
       "    .dataframe thead th {\n",
       "        text-align: right;\n",
       "    }\n",
       "</style>\n",
       "<table border=\"1\" class=\"dataframe\">\n",
       "  <thead>\n",
       "    <tr style=\"text-align: right;\">\n",
       "      <th></th>\n",
       "      <th>Return</th>\n",
       "      <th>Risk</th>\n",
       "      <th>S_ratio</th>\n",
       "    </tr>\n",
       "  </thead>\n",
       "  <tbody>\n",
       "    <tr>\n",
       "      <th>0</th>\n",
       "      <td>0.146502</td>\n",
       "      <td>0.179970</td>\n",
       "      <td>0.397299</td>\n",
       "    </tr>\n",
       "    <tr>\n",
       "      <th>1</th>\n",
       "      <td>0.138868</td>\n",
       "      <td>0.200645</td>\n",
       "      <td>0.318314</td>\n",
       "    </tr>\n",
       "    <tr>\n",
       "      <th>2</th>\n",
       "      <td>0.145998</td>\n",
       "      <td>0.185833</td>\n",
       "      <td>0.382052</td>\n",
       "    </tr>\n",
       "    <tr>\n",
       "      <th>3</th>\n",
       "      <td>0.148487</td>\n",
       "      <td>0.190082</td>\n",
       "      <td>0.386609</td>\n",
       "    </tr>\n",
       "    <tr>\n",
       "      <th>4</th>\n",
       "      <td>0.138360</td>\n",
       "      <td>0.199965</td>\n",
       "      <td>0.316855</td>\n",
       "    </tr>\n",
       "    <tr>\n",
       "      <th>...</th>\n",
       "      <td>...</td>\n",
       "      <td>...</td>\n",
       "      <td>...</td>\n",
       "    </tr>\n",
       "    <tr>\n",
       "      <th>24995</th>\n",
       "      <td>0.149760</td>\n",
       "      <td>0.178021</td>\n",
       "      <td>0.419950</td>\n",
       "    </tr>\n",
       "    <tr>\n",
       "      <th>24996</th>\n",
       "      <td>0.141916</td>\n",
       "      <td>0.180795</td>\n",
       "      <td>0.370120</td>\n",
       "    </tr>\n",
       "    <tr>\n",
       "      <th>24997</th>\n",
       "      <td>0.150698</td>\n",
       "      <td>0.200936</td>\n",
       "      <td>0.376726</td>\n",
       "    </tr>\n",
       "    <tr>\n",
       "      <th>24998</th>\n",
       "      <td>0.158611</td>\n",
       "      <td>0.184002</td>\n",
       "      <td>0.454400</td>\n",
       "    </tr>\n",
       "    <tr>\n",
       "      <th>24999</th>\n",
       "      <td>0.138977</td>\n",
       "      <td>0.195289</td>\n",
       "      <td>0.327600</td>\n",
       "    </tr>\n",
       "  </tbody>\n",
       "</table>\n",
       "<p>25000 rows × 3 columns</p>\n",
       "</div>"
      ],
      "text/plain": [
       "         Return      Risk   S_ratio\n",
       "0      0.146502  0.179970  0.397299\n",
       "1      0.138868  0.200645  0.318314\n",
       "2      0.145998  0.185833  0.382052\n",
       "3      0.148487  0.190082  0.386609\n",
       "4      0.138360  0.199965  0.316855\n",
       "...         ...       ...       ...\n",
       "24995  0.149760  0.178021  0.419950\n",
       "24996  0.141916  0.180795  0.370120\n",
       "24997  0.150698  0.200936  0.376726\n",
       "24998  0.158611  0.184002  0.454400\n",
       "24999  0.138977  0.195289  0.327600\n",
       "\n",
       "[25000 rows x 3 columns]"
      ]
     },
     "execution_count": 48,
     "metadata": {},
     "output_type": "execute_result"
    }
   ],
   "source": [
    "portofolios"
   ]
  },
  {
   "cell_type": "code",
   "execution_count": 49,
   "id": "c2c13f75-29a4-46c1-aa3d-4730592019db",
   "metadata": {},
   "outputs": [
    {
     "data": {
      "text/plain": [
       "0.4896684600060647"
      ]
     },
     "execution_count": 49,
     "metadata": {},
     "output_type": "execute_result"
    }
   ],
   "source": [
    "portofolios['S_ratio'].max()"
   ]
  },
  {
   "cell_type": "code",
   "execution_count": 50,
   "id": "11fba026-b121-4825-a6e5-2b2efe573765",
   "metadata": {},
   "outputs": [
    {
     "data": {
      "text/plain": [
       "0.22500305680092275"
      ]
     },
     "execution_count": 50,
     "metadata": {},
     "output_type": "execute_result"
    }
   ],
   "source": [
    "portofolios['S_ratio'].min()"
   ]
  },
  {
   "cell_type": "code",
   "execution_count": 51,
   "id": "8f5553af-1474-4f7b-93c5-384ecdecc66e",
   "metadata": {},
   "outputs": [
    {
     "data": {
      "text/plain": [
       "0.17269092465316185"
      ]
     },
     "execution_count": 51,
     "metadata": {},
     "output_type": "execute_result"
    }
   ],
   "source": [
    "portofolios['Return'].max()"
   ]
  },
  {
   "cell_type": "code",
   "execution_count": 52,
   "id": "4c8a7a02-a32d-4af5-959b-86d5e26fa285",
   "metadata": {},
   "outputs": [
    {
     "data": {
      "text/plain": [
       "0.12747354664517163"
      ]
     },
     "execution_count": 52,
     "metadata": {},
     "output_type": "execute_result"
    }
   ],
   "source": [
    "portofolios['Return'].min()"
   ]
  },
  {
   "cell_type": "code",
   "execution_count": 53,
   "id": "9c5e192e-c699-4e64-9a30-bc41a1bd2fe2",
   "metadata": {},
   "outputs": [
    {
     "data": {
      "text/plain": [
       "0.2438580011841319"
      ]
     },
     "execution_count": 53,
     "metadata": {},
     "output_type": "execute_result"
    }
   ],
   "source": [
    "portofolios['Risk'].max()"
   ]
  },
  {
   "cell_type": "code",
   "execution_count": 54,
   "id": "9ee5730c-f352-4d98-af5d-a86a58010cb8",
   "metadata": {},
   "outputs": [
    {
     "data": {
      "text/plain": [
       "0.16744921019608688"
      ]
     },
     "execution_count": 54,
     "metadata": {},
     "output_type": "execute_result"
    }
   ],
   "source": [
    "portofolios['Risk'].min()"
   ]
  },
  {
   "cell_type": "code",
   "execution_count": 55,
   "id": "c32a9e78-91d9-45a6-a07b-b707c2777c4c",
   "metadata": {},
   "outputs": [
    {
     "data": {
      "text/plain": [
       "Text(0, 0.5, 'Expected Return')"
      ]
     },
     "execution_count": 55,
     "metadata": {},
     "output_type": "execute_result"
    },
    {
     "data": {
      "image/png": "[encoded data removed]",
      "text/plain": [
       "<Figure size 640x480 with 1 Axes>"
      ]
     },
     "metadata": {},
     "output_type": "display_data"
    }
   ],
   "source": [
    "portofolios.plot(x='Risk', y ='Return', kind = 'scatter');\n",
    "plt.xlabel('Expected Risk/Volatility')\n",
    "plt.ylabel('Expected Return')"
   ]
  },
  {
   "cell_type": "code",
   "execution_count": 9,
   "id": "9783d3e4-c87f-4cb6-ab9d-2570bc3abe50",
   "metadata": {},
   "outputs": [],
   "source": [
    "asset = close_prices.to_csv('close_prices.csv')"
   ]
  },
  {
   "cell_type": "code",
   "execution_count": 58,
   "id": "10104fb6-40a8-490f-bc3d-c874a4d3a5e9",
   "metadata": {},
   "outputs": [],
   "source": [
    "portofolios.to_csv('portofolios.csv',index = False)"
   ]
  },
  {
   "cell_type": "code",
   "execution_count": null,
   "id": "76eb382b-f748-4c60-b7fe-6a83e0c52017",
   "metadata": {},
   "outputs": [],
   "source": []
  }
 ],
 "metadata": {
  "kernelspec": {
   "display_name": "Python 3 (ipykernel)",
   "language": "python",
   "name": "python3"
  },
  "language_info": {
   "codemirror_mode": {
    "name": "ipython",
    "version": 3
   },
   "file_extension": ".py",
   "mimetype": "text/x-python",
   "name": "python",
   "nbconvert_exporter": "python",
   "pygments_lexer": "ipython3",
   "version": "3.12.4"
  }
 },
 "nbformat": 4,
 "nbformat_minor": 5
}
